{
  "cells": [
    {
      "cell_type": "markdown",
      "id": "ec6e7d18-6a6e-4a51-a7cd-0a1152604973",
      "metadata": {
        "id": "ec6e7d18-6a6e-4a51-a7cd-0a1152604973"
      },
      "source": [
        "## Лабораторная работа №1 | Вариант 2"
      ]
    },
    {
      "cell_type": "markdown",
      "id": "277877ce-f982-4711-a6a6-2a4a90871409",
      "metadata": {
        "id": "277877ce-f982-4711-a6a6-2a4a90871409"
      },
      "source": [
        "Выполнил: Галкин Алексей Дмитриевич. М8О-308Б-22"
      ]
    },
    {
      "cell_type": "markdown",
      "id": "031f025d-84dc-470f-b839-456a76d9636b",
      "metadata": {
        "id": "031f025d-84dc-470f-b839-456a76d9636b"
      },
      "source": [
        "### 1. Numpy"
      ]
    },
    {
      "cell_type": "code",
      "execution_count": null,
      "id": "8a2c6f8d-e85b-4982-ba6d-77ffdb7d53e8",
      "metadata": {
        "id": "8a2c6f8d-e85b-4982-ba6d-77ffdb7d53e8"
      },
      "outputs": [],
      "source": [
        "import numpy as np"
      ]
    },
    {
      "cell_type": "markdown",
      "id": "6ff3559d-5f3e-4540-9a31-bfb9f42a23da",
      "metadata": {
        "id": "6ff3559d-5f3e-4540-9a31-bfb9f42a23da"
      },
      "source": [
        "1. Создайте матрицу размером 8х8 и заполните ее шахматным рисунком"
      ]
    },
    {
      "cell_type": "code",
      "execution_count": null,
      "id": "752bc586-1e3f-4085-85c3-4068b781314f",
      "metadata": {
        "colab": {
          "base_uri": "https://localhost:8080/"
        },
        "id": "752bc586-1e3f-4085-85c3-4068b781314f",
        "outputId": "44d85430-755a-4f34-b0bc-e5d9fbd8fdd8"
      },
      "outputs": [
        {
          "output_type": "stream",
          "name": "stdout",
          "text": [
            "[[0 1 0 1 0 1 0 1]\n",
            " [1 1 1 1 1 1 1 1]\n",
            " [0 1 0 1 0 1 0 1]\n",
            " [1 1 1 1 1 1 1 1]\n",
            " [0 1 0 1 0 1 0 1]\n",
            " [1 1 1 1 1 1 1 1]\n",
            " [0 1 0 1 0 1 0 1]\n",
            " [1 1 1 1 1 1 1 1]]\n"
          ]
        }
      ],
      "source": [
        "Z = np.ones((8,8), dtype = int)\n",
        "Z[0::2,::2] = 0\n",
        "\n",
        "print(Z)"
      ]
    },
    {
      "cell_type": "markdown",
      "id": "0243a0f6-1905-4e2d-9572-9ba49dc003a8",
      "metadata": {
        "id": "0243a0f6-1905-4e2d-9572-9ba49dc003a8"
      },
      "source": [
        "2. Каков результат выполнения следующих выражений?\n",
        "\n",
        "```python\n",
        "np.array(0) / np.array(0)\n",
        "np.array(0) // np.array(0)\n",
        "np.array([np.nan]).astype(int).astype(float)\n",
        "```"
      ]
    },
    {
      "cell_type": "code",
      "execution_count": null,
      "id": "ec6ae581-5adf-459c-bdc7-8b015d9529f6",
      "metadata": {
        "id": "ec6ae581-5adf-459c-bdc7-8b015d9529f6",
        "colab": {
          "base_uri": "https://localhost:8080/"
        },
        "outputId": "0263a32b-7ea6-4e16-945a-06ad868aea49"
      },
      "outputs": [
        {
          "output_type": "stream",
          "name": "stderr",
          "text": [
            "<ipython-input-82-7f5b3b542f7c>:1: RuntimeWarning: invalid value encountered in divide\n",
            "  np.array(0) / np.array(0) #nan\n",
            "<ipython-input-82-7f5b3b542f7c>:2: RuntimeWarning: divide by zero encountered in floor_divide\n",
            "  np.array(0) // np.array(0) #0\n",
            "<ipython-input-82-7f5b3b542f7c>:3: RuntimeWarning: invalid value encountered in cast\n",
            "  np.array([np.nan]).astype(int).astype(float) # array([-9.22337204e+18])\n"
          ]
        },
        {
          "output_type": "execute_result",
          "data": {
            "text/plain": [
              "array([-9.22337204e+18])"
            ]
          },
          "metadata": {},
          "execution_count": 82
        }
      ],
      "source": [
        "np.array(0) / np.array(0) #nan\n",
        "np.array(0) // np.array(0) #0\n",
        "np.array([np.nan]).astype(int).astype(float) # array([-9.22337204e+18])"
      ]
    },
    {
      "cell_type": "markdown",
      "id": "8c7d3811-a555-4c02-ada8-e4a70b9dee46",
      "metadata": {
        "id": "8c7d3811-a555-4c02-ada8-e4a70b9dee46"
      },
      "source": [
        "3. Создайте матрицу-шахматную доску 8х8 используя функцию `tile`"
      ]
    },
    {
      "cell_type": "code",
      "execution_count": null,
      "id": "12d0ed34-908c-4840-8b81-457e64dd7b0b",
      "metadata": {
        "id": "12d0ed34-908c-4840-8b81-457e64dd7b0b",
        "colab": {
          "base_uri": "https://localhost:8080/"
        },
        "outputId": "54a65933-5887-4987-cbea-bd87f77902f9"
      },
      "outputs": [
        {
          "output_type": "execute_result",
          "data": {
            "text/plain": [
              "array([[0, 1, 0, 1, 0, 1, 0, 1],\n",
              "       [1, 0, 1, 0, 1, 0, 1, 0],\n",
              "       [0, 1, 0, 1, 0, 1, 0, 1],\n",
              "       [1, 0, 1, 0, 1, 0, 1, 0],\n",
              "       [0, 1, 0, 1, 0, 1, 0, 1],\n",
              "       [1, 0, 1, 0, 1, 0, 1, 0],\n",
              "       [0, 1, 0, 1, 0, 1, 0, 1],\n",
              "       [1, 0, 1, 0, 1, 0, 1, 0]])"
            ]
          },
          "metadata": {},
          "execution_count": 83
        }
      ],
      "source": [
        "a = np.array([[0, 1], [1, 0]])\n",
        "np.tile(a,(4,4))"
      ]
    },
    {
      "cell_type": "markdown",
      "id": "b7ca56e6-a194-4c42-b8a2-307fcf40f648",
      "metadata": {
        "id": "b7ca56e6-a194-4c42-b8a2-307fcf40f648"
      },
      "source": [
        "4. Как округлить до целых массив чисел с плавающей точкой?"
      ]
    },
    {
      "cell_type": "code",
      "execution_count": null,
      "id": "1b1d64cd-0e28-400f-8d49-a1274947e150",
      "metadata": {
        "id": "1b1d64cd-0e28-400f-8d49-a1274947e150",
        "colab": {
          "base_uri": "https://localhost:8080/"
        },
        "outputId": "19db7a7e-e949-44ab-e237-156a79169bce"
      },
      "outputs": [
        {
          "output_type": "execute_result",
          "data": {
            "text/plain": [
              "array([  2.,  61.,   3.,  10., -20.])"
            ]
          },
          "metadata": {},
          "execution_count": 84
        }
      ],
      "source": [
        "a = np.ceil([1.24, 60.3, 2.56, 9.9, -20.144])\n",
        "np.rint(a)"
      ]
    },
    {
      "cell_type": "markdown",
      "id": "b3b2cd1e-e996-45e0-b9ed-e12ce653a9c3",
      "metadata": {
        "id": "b3b2cd1e-e996-45e0-b9ed-e12ce653a9c3"
      },
      "source": [
        "5. Как найти общие значения между двумя массивами?"
      ]
    },
    {
      "cell_type": "code",
      "execution_count": null,
      "id": "c40ef785-d750-42ba-ac6e-b777866202a6",
      "metadata": {
        "id": "c40ef785-d750-42ba-ac6e-b777866202a6",
        "colab": {
          "base_uri": "https://localhost:8080/"
        },
        "outputId": "b03708ca-164f-4394-c262-774af94821da"
      },
      "outputs": [
        {
          "output_type": "execute_result",
          "data": {
            "text/plain": [
              "array([0, 1, 2, 3])"
            ]
          },
          "metadata": {},
          "execution_count": 85
        }
      ],
      "source": [
        "a = np.array([0, 1, 2, 3, 4, 5, 6, 7])\n",
        "b = np.array([1, 2, 3, 0, 74, 10])\n",
        "np.intersect1d(a, b)"
      ]
    },
    {
      "cell_type": "markdown",
      "id": "8108b3a8-5ba8-472d-ad6b-095ade8678ef",
      "metadata": {
        "id": "8108b3a8-5ba8-472d-ad6b-095ade8678ef"
      },
      "source": [
        "6. Как вычислить ((A+B)*(-A/2)) на месте (без копирования)?"
      ]
    },
    {
      "cell_type": "code",
      "execution_count": null,
      "id": "89b58c0a-bd5d-435a-be45-719fdfce662a",
      "metadata": {
        "id": "89b58c0a-bd5d-435a-be45-719fdfce662a",
        "colab": {
          "base_uri": "https://localhost:8080/"
        },
        "outputId": "a00bff02-a41c-440f-8236-ddcbb92f32c8"
      },
      "outputs": [
        {
          "output_type": "execute_result",
          "data": {
            "text/plain": [
              "array([ -3.,  -8., -15., -24.])"
            ]
          },
          "metadata": {},
          "execution_count": 86
        }
      ],
      "source": [
        "A = np.array([1.0, 2.0, 3.0, 4.0])\n",
        "B = np.array([5.0, 6.0, 7.0, 8.0])\n",
        "\n",
        "\n",
        "np.add(A, B, out=B)\n",
        "np.divide(A, -2, out=A)\n",
        "np.multiply(A, B, out=A)"
      ]
    },
    {
      "cell_type": "markdown",
      "id": "98511652-db85-4506-a5b8-f94b05d35ce9",
      "metadata": {
        "id": "98511652-db85-4506-a5b8-f94b05d35ce9"
      },
      "source": [
        "7. Рассмотрим случайный вектор с формой 100х2, представляющей координаты, и найдем расстояния от точки к точке"
      ]
    },
    {
      "cell_type": "code",
      "execution_count": null,
      "id": "ca72cdb0-ed24-460d-81a9-220b850d62c3",
      "metadata": {
        "id": "ca72cdb0-ed24-460d-81a9-220b850d62c3",
        "colab": {
          "base_uri": "https://localhost:8080/"
        },
        "outputId": "0d3576e4-5377-4669-9c83-705eadaf57ad"
      },
      "outputs": [
        {
          "output_type": "execute_result",
          "data": {
            "text/plain": [
              "array([[0.        , 0.89541647, 0.6385902 , ..., 0.57783506, 0.95887603,\n",
              "        0.80128063],\n",
              "       [0.89541647, 0.        , 1.10277036, ..., 0.60080168, 0.83259018,\n",
              "        0.5143543 ],\n",
              "       [0.6385902 , 1.10277036, 0.        , ..., 0.50555161, 0.59202122,\n",
              "        0.68671466],\n",
              "       ...,\n",
              "       [0.57783506, 0.60080168, 0.50555161, ..., 0.        , 0.41013811,\n",
              "        0.23754746],\n",
              "       [0.95887603, 0.83259018, 0.59202122, ..., 0.41013811, 0.        ,\n",
              "        0.32276901],\n",
              "       [0.80128063, 0.5143543 , 0.68671466, ..., 0.23754746, 0.32276901,\n",
              "        0.        ]])"
            ]
          },
          "metadata": {},
          "execution_count": 87
        }
      ],
      "source": [
        "a = np.random.rand(100, 2)\n",
        "\n",
        "b = a[:, np.newaxis, :] - a[np.newaxis, :, :]\n",
        "\n",
        "np.sqrt(np.sum(b **2, axis=-1))"
      ]
    },
    {
      "cell_type": "markdown",
      "id": "1412a70a-2a1e-406e-a227-afc9a47ed659",
      "metadata": {
        "id": "1412a70a-2a1e-406e-a227-afc9a47ed659"
      },
      "source": [
        "8. Как конвертировать массив float(32 bit) к массиву целых чисел (integer 32 bit) in place?"
      ]
    },
    {
      "cell_type": "code",
      "execution_count": null,
      "id": "22bb8bbf-52dd-4d3c-86c0-c4e9637b909b",
      "metadata": {
        "id": "22bb8bbf-52dd-4d3c-86c0-c4e9637b909b",
        "outputId": "bb9c7429-8e8e-4a9c-cfdf-83cf21fb3905",
        "colab": {
          "base_uri": "https://localhost:8080/"
        }
      },
      "outputs": [
        {
          "output_type": "stream",
          "name": "stdout",
          "text": [
            "[ 1.  5. 20.  0.]\n"
          ]
        }
      ],
      "source": [
        "a = np.array([1.2, 5.6, 20.1, 0.99], dtype=np.float32)\n",
        "a[:] = a.astype(np.int32)\n",
        "print(a)"
      ]
    },
    {
      "cell_type": "markdown",
      "id": "f7dc66bf-f7c8-4d78-834b-451651f6839a",
      "metadata": {
        "id": "f7dc66bf-f7c8-4d78-834b-451651f6839a"
      },
      "source": [
        "9. Создайте структурированный массив, представляющий позицию (x, y) и цвет (r, g, b)."
      ]
    },
    {
      "cell_type": "code",
      "execution_count": null,
      "id": "0ecf5586-d30e-4256-ab93-7ff9bab0b34b",
      "metadata": {
        "id": "0ecf5586-d30e-4256-ab93-7ff9bab0b34b",
        "colab": {
          "base_uri": "https://localhost:8080/"
        },
        "outputId": "72bb2c0e-a84b-4689-8291-71d5c397229e"
      },
      "outputs": [
        {
          "output_type": "stream",
          "name": "stdout",
          "text": [
            "[([0., 0.], [0, 0, 0])]\n",
            "[([25.31, 77.21], [255,   0,   0])]\n"
          ]
        }
      ],
      "source": [
        "dtype = np.dtype([('position',np.float32,(2,)), ('colour', np.uint8, (3,))])\n",
        "\n",
        "a = np.zeros(1, dtype=dtype)\n",
        "print(a)\n",
        "a[0] = ((25.31, 77.21), (255, 0, 0))\n",
        "print(a)"
      ]
    },
    {
      "cell_type": "markdown",
      "id": "a66194f1-0099-4808-8ebf-5cf10eee5071",
      "metadata": {
        "id": "a66194f1-0099-4808-8ebf-5cf10eee5071"
      },
      "source": [
        "10. Какой эквивалент enumerate для numpy массивов?"
      ]
    },
    {
      "cell_type": "code",
      "execution_count": null,
      "id": "07ed452c-3f7c-40a7-a5b5-716602a5eed9",
      "metadata": {
        "id": "07ed452c-3f7c-40a7-a5b5-716602a5eed9",
        "colab": {
          "base_uri": "https://localhost:8080/"
        },
        "outputId": "0285f26f-b4f4-4854-dee6-c2b7eaeb6504"
      },
      "outputs": [
        {
          "output_type": "stream",
          "name": "stdout",
          "text": [
            "(0,) 1\n",
            "(1,) 2\n",
            "(2,) 3\n",
            "(3,) 9\n",
            "----------\n",
            "(0,) DA\n",
            "(1,) ML\n",
            "(2,) CG\n",
            "(3,) P\n"
          ]
        }
      ],
      "source": [
        "a = np.array([1, 2, 3, 9])\n",
        "for i, value in np.ndenumerate(a):\n",
        "  print(i, value)\n",
        "print('----------')\n",
        "b = np.array(['DA', 'ML', 'CG', 'P'])\n",
        "for i, value in np.ndenumerate(b):\n",
        "  print(i, value)"
      ]
    },
    {
      "cell_type": "markdown",
      "id": "5bd0f757-bb01-4afb-b4f0-6821b5c5b2b7",
      "metadata": {
        "id": "5bd0f757-bb01-4afb-b4f0-6821b5c5b2b7"
      },
      "source": [
        "### 2. Pandas"
      ]
    },
    {
      "cell_type": "markdown",
      "id": "bdffd013-e573-4318-8062-65ae1c5e07e8",
      "metadata": {
        "id": "bdffd013-e573-4318-8062-65ae1c5e07e8"
      },
      "source": [
        "Найдите ответы на вопросы или выполните действия с предложенным датасетом\n",
        "\n",
        "Данные о преступлениях, совершенных женщинами в Индии, с демографическими подробностями.\n",
        "\n",
        "Файл: `CrimesOnWomenData.csv`\n",
        "\n",
        "```\n",
        "State - название штата/региона\n",
        "Year - год записи\n",
        "Rape - случаи изнасилования\n",
        "K&A - случаи похищения\n",
        "DD - смерти из-за приданого\n",
        "AoW - нападение на женщин\n",
        "AoM - нападение на женскую скромность(modestity)\n",
        "DV - бытовое насилие\n",
        "WT - торговля женщинами\n",
        "```"
      ]
    },
    {
      "cell_type": "code",
      "execution_count": null,
      "id": "0778ec2b-a7b2-4738-b771-bb1781986f62",
      "metadata": {
        "id": "0778ec2b-a7b2-4738-b771-bb1781986f62"
      },
      "outputs": [],
      "source": [
        "import pandas as pd"
      ]
    },
    {
      "cell_type": "code",
      "execution_count": null,
      "id": "bfc45614-d44b-49bd-a55c-c410a95a808f",
      "metadata": {
        "id": "bfc45614-d44b-49bd-a55c-c410a95a808f"
      },
      "outputs": [],
      "source": [
        "DATA_PATH = 'CrimesOnWomenData.csv'"
      ]
    },
    {
      "cell_type": "markdown",
      "id": "1026e8c6-513a-41e3-b2f4-68aae18b8435",
      "metadata": {
        "id": "1026e8c6-513a-41e3-b2f4-68aae18b8435"
      },
      "source": [
        "1. За какие года представлен набор данных?"
      ]
    },
    {
      "cell_type": "code",
      "execution_count": null,
      "id": "e74655aa-b97c-42e5-b972-e0753ddc2331",
      "metadata": {
        "id": "e74655aa-b97c-42e5-b972-e0753ddc2331",
        "colab": {
          "base_uri": "https://localhost:8080/"
        },
        "outputId": "e2135d55-e24d-4fd0-a978-87d8042e94f9"
      },
      "outputs": [
        {
          "output_type": "stream",
          "name": "stdout",
          "text": [
            "[2001 2002 2003 2004 2005 2006 2007 2008 2009 2010 2011 2012 2013 2014\n",
            " 2015 2016 2017 2018 2019 2020 2021]\n"
          ]
        }
      ],
      "source": [
        "df = pd.read_csv(DATA_PATH)\n",
        "years_range = df['Year'].unique()\n",
        "years_range.sort()\n",
        "print(years_range)"
      ]
    },
    {
      "cell_type": "markdown",
      "id": "eee028a5-9311-4a4f-b4ac-1fb75acfb4b3",
      "metadata": {
        "id": "eee028a5-9311-4a4f-b4ac-1fb75acfb4b3"
      },
      "source": [
        "2. Выявите район с самым высоким количеством убийств женщин"
      ]
    },
    {
      "cell_type": "code",
      "execution_count": null,
      "id": "ac0fb641-96d2-4e7c-88d5-636ce3b699d2",
      "metadata": {
        "id": "ac0fb641-96d2-4e7c-88d5-636ce3b699d2",
        "colab": {
          "base_uri": "https://localhost:8080/"
        },
        "outputId": "4f5799e4-9b05-4988-a093-4f8226494db7"
      },
      "outputs": [
        {
          "output_type": "stream",
          "name": "stdout",
          "text": [
            "Uttar Pradesh\n"
          ]
        }
      ],
      "source": [
        "\n",
        "max_dd = df['DD'].idxmax()\n",
        "state_with_most_dd = df.loc[max_dd, 'State']\n",
        "print(state_with_most_dd)"
      ]
    },
    {
      "cell_type": "markdown",
      "id": "cd7979ba-2fa8-4fd3-986d-26cee122da1f",
      "metadata": {
        "id": "cd7979ba-2fa8-4fd3-986d-26cee122da1f"
      },
      "source": [
        "3. Какое среднее число изнасилований женщин в индии наблюдалось в указанные года?"
      ]
    },
    {
      "cell_type": "code",
      "execution_count": null,
      "id": "3915f77b-116c-482b-8644-2f5f11931af9",
      "metadata": {
        "id": "3915f77b-116c-482b-8644-2f5f11931af9",
        "colab": {
          "base_uri": "https://localhost:8080/"
        },
        "outputId": "09f7a670-00ee-4210-8ca8-a3ccb05f18d6"
      },
      "outputs": [
        {
          "output_type": "execute_result",
          "data": {
            "text/plain": [
              "727.8559782608696"
            ]
          },
          "metadata": {},
          "execution_count": 95
        }
      ],
      "source": [
        "df[\"Rape\"].mean()"
      ]
    },
    {
      "cell_type": "markdown",
      "id": "1b69ba67-61a8-4765-9795-cfab1a09e929",
      "metadata": {
        "id": "1b69ba67-61a8-4765-9795-cfab1a09e929"
      },
      "source": [
        "4. Выявите район с минимальным числом похищений за период 2001-2003 года"
      ]
    },
    {
      "cell_type": "code",
      "execution_count": null,
      "id": "1228d2e9-fc56-4240-95c6-c98a8b84c016",
      "metadata": {
        "id": "1228d2e9-fc56-4240-95c6-c98a8b84c016",
        "colab": {
          "base_uri": "https://localhost:8080/",
          "height": 35
        },
        "outputId": "4c52b51a-5a9e-42b8-977b-3ede7f66f2ba"
      },
      "outputs": [
        {
          "output_type": "execute_result",
          "data": {
            "text/plain": [
              "'LAKSHADWEEP'"
            ],
            "application/vnd.google.colaboratory.intrinsic+json": {
              "type": "string"
            }
          },
          "metadata": {},
          "execution_count": 96
        }
      ],
      "source": [
        "df.loc[df[(df[\"Year\"] >= 2001) & df[\"Year\"] <= 2003][\"K&A\"].idxmin(), \"State\"]"
      ]
    },
    {
      "cell_type": "markdown",
      "id": "5acec4fd-f740-49a8-a5d8-562d358239c9",
      "metadata": {
        "id": "5acec4fd-f740-49a8-a5d8-562d358239c9"
      },
      "source": [
        "5. Перечислите районы в которых наблюдались наиболее частые случае домашнего насилия за период с 2005 по 2012 года"
      ]
    },
    {
      "cell_type": "code",
      "execution_count": null,
      "id": "cac8daef-f4e8-4c8b-b7f4-d41a6adf35ed",
      "metadata": {
        "id": "cac8daef-f4e8-4c8b-b7f4-d41a6adf35ed",
        "colab": {
          "base_uri": "https://localhost:8080/",
          "height": 241
        },
        "outputId": "58d2be9b-bc2e-42ca-f8c7-9f0488cdfff1"
      },
      "outputs": [
        {
          "output_type": "execute_result",
          "data": {
            "text/plain": [
              "476    West Bengal\n",
              "512    West Bengal\n",
              "691    Uttarakhand\n",
              "727    Uttarakhand\n",
              "404    West Bengal\n",
              "Name: State, dtype: object"
            ],
            "text/html": [
              "<div>\n",
              "<style scoped>\n",
              "    .dataframe tbody tr th:only-of-type {\n",
              "        vertical-align: middle;\n",
              "    }\n",
              "\n",
              "    .dataframe tbody tr th {\n",
              "        vertical-align: top;\n",
              "    }\n",
              "\n",
              "    .dataframe thead th {\n",
              "        text-align: right;\n",
              "    }\n",
              "</style>\n",
              "<table border=\"1\" class=\"dataframe\">\n",
              "  <thead>\n",
              "    <tr style=\"text-align: right;\">\n",
              "      <th></th>\n",
              "      <th>State</th>\n",
              "    </tr>\n",
              "  </thead>\n",
              "  <tbody>\n",
              "    <tr>\n",
              "      <th>476</th>\n",
              "      <td>West Bengal</td>\n",
              "    </tr>\n",
              "    <tr>\n",
              "      <th>512</th>\n",
              "      <td>West Bengal</td>\n",
              "    </tr>\n",
              "    <tr>\n",
              "      <th>691</th>\n",
              "      <td>Uttarakhand</td>\n",
              "    </tr>\n",
              "    <tr>\n",
              "      <th>727</th>\n",
              "      <td>Uttarakhand</td>\n",
              "    </tr>\n",
              "    <tr>\n",
              "      <th>404</th>\n",
              "      <td>West Bengal</td>\n",
              "    </tr>\n",
              "  </tbody>\n",
              "</table>\n",
              "</div><br><label><b>dtype:</b> object</label>"
            ]
          },
          "metadata": {},
          "execution_count": 97
        }
      ],
      "source": [
        "df[(df[\"Year\"] >= 2005) & df[\"Year\"] <= 2012].sort_values(by = \"DV\", ascending=False)['State'].head()"
      ]
    },
    {
      "cell_type": "markdown",
      "id": "8d6171a9-0f75-4f3e-ac54-95d03d1f70b6",
      "metadata": {
        "id": "8d6171a9-0f75-4f3e-ac54-95d03d1f70b6"
      },
      "source": [
        "6. Выведите названия районов в порядке не возрастания случаев торговли женщинами за 2020 год"
      ]
    },
    {
      "cell_type": "code",
      "execution_count": null,
      "id": "c64d0892-2fb8-4304-966c-5cbb32b03c0a",
      "metadata": {
        "id": "c64d0892-2fb8-4304-966c-5cbb32b03c0a",
        "colab": {
          "base_uri": "https://localhost:8080/",
          "height": 241
        },
        "outputId": "86c0050d-db73-4008-875d-22fe228897a3"
      },
      "outputs": [
        {
          "output_type": "execute_result",
          "data": {
            "text/plain": [
              "686            Sikkim\n",
              "674         Jharkhand\n",
              "677    Madhya Pradesh\n",
              "684            Punjab\n",
              "691       Uttarakhand\n",
              "Name: State, dtype: object"
            ],
            "text/html": [
              "<div>\n",
              "<style scoped>\n",
              "    .dataframe tbody tr th:only-of-type {\n",
              "        vertical-align: middle;\n",
              "    }\n",
              "\n",
              "    .dataframe tbody tr th {\n",
              "        vertical-align: top;\n",
              "    }\n",
              "\n",
              "    .dataframe thead th {\n",
              "        text-align: right;\n",
              "    }\n",
              "</style>\n",
              "<table border=\"1\" class=\"dataframe\">\n",
              "  <thead>\n",
              "    <tr style=\"text-align: right;\">\n",
              "      <th></th>\n",
              "      <th>State</th>\n",
              "    </tr>\n",
              "  </thead>\n",
              "  <tbody>\n",
              "    <tr>\n",
              "      <th>686</th>\n",
              "      <td>Sikkim</td>\n",
              "    </tr>\n",
              "    <tr>\n",
              "      <th>674</th>\n",
              "      <td>Jharkhand</td>\n",
              "    </tr>\n",
              "    <tr>\n",
              "      <th>677</th>\n",
              "      <td>Madhya Pradesh</td>\n",
              "    </tr>\n",
              "    <tr>\n",
              "      <th>684</th>\n",
              "      <td>Punjab</td>\n",
              "    </tr>\n",
              "    <tr>\n",
              "      <th>691</th>\n",
              "      <td>Uttarakhand</td>\n",
              "    </tr>\n",
              "  </tbody>\n",
              "</table>\n",
              "</div><br><label><b>dtype:</b> object</label>"
            ]
          },
          "metadata": {},
          "execution_count": 98
        }
      ],
      "source": [
        "df[(df[\"Year\"] == 2020)].sort_values(by = \"WT\", ascending=False)['State'].head()"
      ]
    },
    {
      "cell_type": "markdown",
      "id": "a24c2f59-eeaf-47fd-8224-1023d1a8edeb",
      "metadata": {
        "id": "a24c2f59-eeaf-47fd-8224-1023d1a8edeb"
      },
      "source": [
        "Перейдем к следующему набору данных.\n",
        "\n",
        "Файл: `CustomerPurchasingBehaviors.csv`\n",
        "\n",
        "Этот набор данных содержит информацию о профилях клиентов и их покупательском поведении. Данные содержат столбцы, содержащие идентификатор пользователя, возраст, годовой доход, сумму покупки, показатель лояльности (в разбивке по классам), регион и частоту покупок. Он предназначен для анализа тенденций сегментации клиентов и лояльности и может быть использован для различных задач машинного обучения и анализа данных, связанных с поведением клиентов и исследованиями рынка.\n",
        "\n",
        "```\n",
        "user_id - ID клиента\n",
        "age - Возраст\n",
        "annual_income - Годовой доход клиента (в долларах США).\n",
        "purchase_amount - Общая сумма покупок, совершенных клиентом (в долларах США).\n",
        "loyalty_score - Показатель лояльности клиента (значение от 0 до 100).\n",
        "region - Регион, в котором проживает клиент (Север, Юг, Восток, Запад).\n",
        "purchase_frequency - Частота покупок клиентов (количество раз в год).\n",
        "```"
      ]
    },
    {
      "cell_type": "code",
      "execution_count": null,
      "id": "7407fc92-f656-44b4-bc3a-b86d0a8664ea",
      "metadata": {
        "id": "7407fc92-f656-44b4-bc3a-b86d0a8664ea"
      },
      "outputs": [],
      "source": [
        "DATA_PATH = 'CustomerPurchasingBehaviors.csv'\n",
        "df = pd.read_csv(DATA_PATH)"
      ]
    },
    {
      "cell_type": "markdown",
      "id": "1d447d6e-cfde-411c-9078-cd8f41f02d8b",
      "metadata": {
        "id": "1d447d6e-cfde-411c-9078-cd8f41f02d8b"
      },
      "source": [
        "8. Какой средний годовой доход у клиентов с уровнем лояльности больше 50 живущих на севере"
      ]
    },
    {
      "cell_type": "code",
      "execution_count": null,
      "id": "b30df6b1-5eca-43da-a115-1c1a3cbfd899",
      "metadata": {
        "id": "b30df6b1-5eca-43da-a115-1c1a3cbfd899",
        "colab": {
          "base_uri": "https://localhost:8080/"
        },
        "outputId": "ab3e9ba4-8ec2-4158-aacb-47e2c82a0dfb"
      },
      "outputs": [
        {
          "output_type": "execute_result",
          "data": {
            "text/plain": [
              "60146.34146341463"
            ]
          },
          "metadata": {},
          "execution_count": 100
        }
      ],
      "source": [
        "df[(df['loyalty_score'] > 5.0) & (df['region'] == 'North')]['annual_income'].mean()"
      ]
    },
    {
      "cell_type": "markdown",
      "id": "c41d5d99-65f7-4d17-82ae-971ec959f327",
      "metadata": {
        "id": "c41d5d99-65f7-4d17-82ae-971ec959f327"
      },
      "source": [
        "9. Выведите 25 и 75 перцентили уровня лоальности клиентов живущих на западе с частотой покупок более 20 раз в год"
      ]
    },
    {
      "cell_type": "code",
      "execution_count": null,
      "id": "275bcc04-659b-4521-a9e5-200a5f4ef674",
      "metadata": {
        "id": "275bcc04-659b-4521-a9e5-200a5f4ef674",
        "colab": {
          "base_uri": "https://localhost:8080/"
        },
        "outputId": "b6f91a1f-0764-41b4-b88f-46c56b4d39d4"
      },
      "outputs": [
        {
          "output_type": "stream",
          "name": "stdout",
          "text": [
            "0.25    8.5\n",
            "0.75    9.2\n",
            "Name: loyalty_score, dtype: float64\n"
          ]
        }
      ],
      "source": [
        "filtered_data = df[(df['region'] == 'West') & (df['purchase_frequency'] > 20)]\n",
        "loyalty_percentiles = filtered_data['loyalty_score'].quantile([0.25, 0.75])\n",
        "print(loyalty_percentiles)"
      ]
    },
    {
      "cell_type": "markdown",
      "id": "a1f7a5c0-259c-4837-a5d1-2dfc05e7c13e",
      "metadata": {
        "id": "a1f7a5c0-259c-4837-a5d1-2dfc05e7c13e"
      },
      "source": [
        "10. Отличается ли медианный возраст клиентов с уровнем лояльности более 70 и менее 10 для жителей Востока и Севера."
      ]
    },
    {
      "cell_type": "code",
      "execution_count": null,
      "id": "a2da4d57-edb4-4179-8bee-3deda6cd00e6",
      "metadata": {
        "id": "a2da4d57-edb4-4179-8bee-3deda6cd00e6",
        "colab": {
          "base_uri": "https://localhost:8080/"
        },
        "outputId": "73ace072-23c3-4fb3-e5f2-4cf8168d589e"
      },
      "outputs": [
        {
          "output_type": "stream",
          "name": "stdout",
          "text": [
            "46.0\n",
            "nan\n"
          ]
        }
      ],
      "source": [
        "loyalty_above_70 = df[(df['loyalty_score'] > 7.0) & (df['region'].isin(['East', 'North']))]\n",
        "\n",
        "loyalty_below_10 = df[(df['loyalty_score'] < 1.0) & (df['region'].isin(['East', 'North']))]\n",
        "\n",
        "median_age_above_70 = loyalty_above_70['age'].median()\n",
        "median_age_below_10 = loyalty_below_10['age'].median()\n",
        "print(median_age_above_70)\n",
        "print(median_age_below_10)"
      ]
    },
    {
      "cell_type": "markdown",
      "id": "deb4ca3a-3d8a-4205-bee9-d26fd28638b2",
      "metadata": {
        "id": "deb4ca3a-3d8a-4205-bee9-d26fd28638b2"
      },
      "source": [
        "### 3. Визуализация"
      ]
    },
    {
      "cell_type": "markdown",
      "id": "f8941ce1-cbf2-465a-b013-1b84aeb999ef",
      "metadata": {
        "id": "f8941ce1-cbf2-465a-b013-1b84aeb999ef"
      },
      "source": [
        "Используя библиотеки matplotlib/sns/plotly/pandas и набор данных представленный ранее визуализируйте"
      ]
    },
    {
      "cell_type": "code",
      "source": [
        "import matplotlib.pyplot as plt\n",
        "DATA_PATH = 'CustomerPurchasingBehaviors.csv'\n",
        "df = pd.read_csv(DATA_PATH)"
      ],
      "metadata": {
        "id": "ZhbesLgbGsQa"
      },
      "id": "ZhbesLgbGsQa",
      "execution_count": null,
      "outputs": []
    },
    {
      "cell_type": "markdown",
      "id": "5e98ce6f-8d02-4120-ad85-241494c038d6",
      "metadata": {
        "id": "5e98ce6f-8d02-4120-ad85-241494c038d6"
      },
      "source": [
        "1. Постройте диаграмму которая отражает средний уровень лояльности во всех регионах"
      ]
    },
    {
      "cell_type": "code",
      "execution_count": null,
      "id": "664666b2-17b7-49dd-a3bd-c4be9361755d",
      "metadata": {
        "id": "664666b2-17b7-49dd-a3bd-c4be9361755d",
        "colab": {
          "base_uri": "https://localhost:8080/",
          "height": 588
        },
        "outputId": "1d895a19-654a-447c-9194-4d01a69313f4"
      },
      "outputs": [
        {
          "output_type": "display_data",
          "data": {
            "text/plain": [
              "<Figure size 1000x600 with 1 Axes>"
            ],
            "image/png": "[encoded data removed]"
          },
          "metadata": {}
        }
      ],
      "source": [
        "average_loyalty = df.groupby('region')['loyalty_score'].mean().reset_index()\n",
        "\n",
        "plt.figure(figsize=(10, 6))\n",
        "plt.bar(average_loyalty['region'], average_loyalty['loyalty_score'], color='skyblue')\n",
        "plt.title('Средний уровень лояльности клиентов по регионам')\n",
        "plt.xlabel('Регион')\n",
        "plt.ylabel('Средний уровень лояльности')\n",
        "plt.ylim(0, 11)\n",
        "plt.xticks(rotation=45)\n",
        "\n",
        "plt.show()"
      ]
    },
    {
      "cell_type": "markdown",
      "id": "4c7500bb-36ca-4ea7-bc3c-4f15afbd4c41",
      "metadata": {
        "id": "4c7500bb-36ca-4ea7-bc3c-4f15afbd4c41"
      },
      "source": [
        "2. Постройте гистограмму распределения зарплат клиентов на Севере."
      ]
    },
    {
      "cell_type": "code",
      "execution_count": null,
      "id": "7325e7f8-5f00-4a82-8184-7064505f7ccd",
      "metadata": {
        "id": "7325e7f8-5f00-4a82-8184-7064505f7ccd",
        "colab": {
          "base_uri": "https://localhost:8080/",
          "height": 564
        },
        "outputId": "b04be62b-cde3-44af-b862-0fb4d00d381c"
      },
      "outputs": [
        {
          "output_type": "display_data",
          "data": {
            "text/plain": [
              "<Figure size 1000x600 with 1 Axes>"
            ],
            "image/png": "[encoded data removed]"
          },
          "metadata": {}
        }
      ],
      "source": [
        "north_data = df[df['region'] == 'North']\n",
        "\n",
        "plt.figure(figsize=(10, 6))\n",
        "plt.hist(north_data['annual_income'], bins=20, color='skyblue', edgecolor='black')\n",
        "\n",
        "plt.title('Распределение годовых доходов клиентов на Севере')\n",
        "plt.xlabel('Годовой доход (USD)')\n",
        "plt.ylabel('Частота')\n",
        "plt.grid(axis='y', alpha=0.75)\n",
        "\n",
        "plt.show()"
      ]
    },
    {
      "cell_type": "markdown",
      "id": "efdd0669-36e0-4708-ac6b-ad0d92881113",
      "metadata": {
        "id": "efdd0669-36e0-4708-ac6b-ad0d92881113"
      },
      "source": [
        "3. Сравните уровни зарплат людей на севере и юге."
      ]
    },
    {
      "cell_type": "code",
      "execution_count": null,
      "id": "7504a170-04a1-4b86-924d-8d46be16fd3c",
      "metadata": {
        "id": "7504a170-04a1-4b86-924d-8d46be16fd3c",
        "colab": {
          "base_uri": "https://localhost:8080/",
          "height": 564
        },
        "outputId": "7d3dd091-6ee4-4f11-ee9c-449d9ee67535"
      },
      "outputs": [
        {
          "output_type": "display_data",
          "data": {
            "text/plain": [
              "<Figure size 1000x600 with 1 Axes>"
            ],
            "image/png": "[encoded data removed]"
          },
          "metadata": {}
        }
      ],
      "source": [
        "plt.figure(figsize=(10, 6))\n",
        "plt.hist(df[df['region'] == 'North']['annual_income'], bins=20, alpha=0.5, label='Север', color='skyblue', edgecolor='black')\n",
        "plt.hist(df[df['region'] == 'South']['annual_income'], bins=20, alpha=0.5, label='Юг', color='lightgreen', edgecolor='black')\n",
        "\n",
        "plt.title('Распределение годовых доходов на Севере и Юге')\n",
        "plt.xlabel('Годовой доход (USD)')\n",
        "plt.ylabel('Частота')\n",
        "plt.legend()\n",
        "plt.grid(axis='y', alpha=0.75)\n",
        "\n",
        "plt.show()"
      ]
    },
    {
      "cell_type": "markdown",
      "id": "b5839a48-e992-45fc-81ee-59cb5aa79dda",
      "metadata": {
        "id": "b5839a48-e992-45fc-81ee-59cb5aa79dda"
      },
      "source": [
        "4. Постройте box plot отображающий распределение уровня лояльности для людей до 20 лет, от 20 до 40, от 40 до 60 и старше 60 лет"
      ]
    },
    {
      "cell_type": "code",
      "execution_count": null,
      "id": "1a942378-45ea-47a0-bac9-488960491613",
      "metadata": {
        "id": "1a942378-45ea-47a0-bac9-488960491613",
        "colab": {
          "base_uri": "https://localhost:8080/",
          "height": 479
        },
        "outputId": "ad59219a-82d3-4b87-f158-7b2907b4235a"
      },
      "outputs": [
        {
          "output_type": "display_data",
          "data": {
            "text/plain": [
              "<Figure size 1000x600 with 0 Axes>"
            ]
          },
          "metadata": {}
        },
        {
          "output_type": "display_data",
          "data": {
            "text/plain": [
              "<Figure size 640x480 with 1 Axes>"
            ],
            "image/png": "[encoded data removed]"
          },
          "metadata": {}
        }
      ],
      "source": [
        "bins = [0, 20, 40, 60, 100]\n",
        "labels = ['До 20', '20-40', '40-60', 'Старше 60']\n",
        "df['age_group'] = pd.cut(df['age'], bins=bins, labels=labels)\n",
        "\n",
        "plt.figure(figsize=(10, 6))\n",
        "df.boxplot(column='loyalty_score', by='age_group', grid=False, patch_artist=True,\n",
        "             boxprops=dict(facecolor='lightblue', color='blue'),\n",
        "             medianprops=dict(color='red'))\n",
        "\n",
        "plt.title('Распределение уровня лояльности по возрастным группам')\n",
        "plt.suptitle('')\n",
        "plt.xlabel('Возрастная группа')\n",
        "plt.ylabel('Уровень лояльности')\n",
        "plt.grid(axis='y', alpha=0.75)\n",
        "\n",
        "plt.show()"
      ]
    },
    {
      "cell_type": "markdown",
      "id": "d4c97bef-bb64-43cc-a89f-7510174492ec",
      "metadata": {
        "id": "d4c97bef-bb64-43cc-a89f-7510174492ec"
      },
      "source": [
        "5. Визуализируйте зависимость частоты покупок от заработка"
      ]
    },
    {
      "cell_type": "code",
      "execution_count": null,
      "id": "a1f444af-3544-432c-8dc6-bb74d4cff272",
      "metadata": {
        "id": "a1f444af-3544-432c-8dc6-bb74d4cff272",
        "colab": {
          "base_uri": "https://localhost:8080/",
          "height": 564
        },
        "outputId": "c379b95e-073d-49de-9ff6-4a4a52219341"
      },
      "outputs": [
        {
          "output_type": "display_data",
          "data": {
            "text/plain": [
              "<Figure size 1000x600 with 1 Axes>"
            ],
            "image/png": "[encoded data removed]"
          },
          "metadata": {}
        }
      ],
      "source": [
        "plt.figure(figsize=(10, 6))\n",
        "plt.scatter(df['annual_income'], df['purchase_frequency'], alpha=0.5, color='blue', edgecolor='black')\n",
        "\n",
        "plt.title('Зависимость частоты покупок от заработка')\n",
        "plt.xlabel('Годовой доход (USD)')\n",
        "plt.ylabel('Частота покупок (раз в год)')\n",
        "plt.grid(True)\n",
        "\n",
        "plt.show()"
      ]
    },
    {
      "cell_type": "markdown",
      "id": "a2ab764c-8ac1-4c5a-93ad-8168b0eb4934",
      "metadata": {
        "id": "a2ab764c-8ac1-4c5a-93ad-8168b0eb4934"
      },
      "source": [
        "6. Визуализируйте как зависит сумма покупок от зарплаты клиента"
      ]
    },
    {
      "cell_type": "markdown",
      "source": [],
      "metadata": {
        "id": "IRwP8wlIGqUR"
      },
      "id": "IRwP8wlIGqUR"
    },
    {
      "cell_type": "code",
      "execution_count": null,
      "id": "6449e306-fb6c-46d4-bcd8-b6b76fbf69d2",
      "metadata": {
        "id": "6449e306-fb6c-46d4-bcd8-b6b76fbf69d2",
        "colab": {
          "base_uri": "https://localhost:8080/",
          "height": 564
        },
        "outputId": "a006d4ab-3af8-429c-d438-56ebf9f36b86"
      },
      "outputs": [
        {
          "output_type": "display_data",
          "data": {
            "text/plain": [
              "<Figure size 1000x600 with 1 Axes>"
            ],
            "image/png": "[encoded data removed]"
          },
          "metadata": {}
        }
      ],
      "source": [
        "plt.figure(figsize=(10, 6))\n",
        "plt.scatter(df['annual_income'], df['purchase_amount'], alpha=0.5, color='green', edgecolor='black')\n",
        "\n",
        "plt.title('Зависимость суммы покупок от заработка клиента')\n",
        "plt.xlabel('Годовой доход (USD)')\n",
        "plt.ylabel('Сумма покупок (USD)')\n",
        "plt.grid(True)\n",
        "\n",
        "plt.show()"
      ]
    },
    {
      "cell_type": "markdown",
      "id": "16afdeec-8c90-4ed1-a599-e0b1343bbf5c",
      "metadata": {
        "id": "16afdeec-8c90-4ed1-a599-e0b1343bbf5c"
      },
      "source": [
        "7. Придумайте как визуализировать зависимость между частотой покупок, суммой покупок и скором лояльности *\n",
        "\n",
        "\\* Задание на доп. балл"
      ]
    },
    {
      "cell_type": "code",
      "execution_count": null,
      "id": "e10d0cc7-a1ca-4204-a875-b1660e44618d",
      "metadata": {
        "id": "e10d0cc7-a1ca-4204-a875-b1660e44618d"
      },
      "outputs": [],
      "source": []
    }
  ],
  "metadata": {
    "colab": {
      "provenance": []
    },
    "kernelspec": {
      "display_name": "Python 3 (ipykernel)",
      "language": "python",
      "name": "python3"
    },
    "language_info": {
      "codemirror_mode": {
        "name": "ipython",
        "version": 3
      },
      "file_extension": ".py",
      "mimetype": "text/x-python",
      "name": "python",
      "nbconvert_exporter": "python",
      "pygments_lexer": "ipython3",
      "version": "3.11.7"
    }
  },
  "nbformat": 4,
  "nbformat_minor": 5
}